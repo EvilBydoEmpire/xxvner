{
 "cells": [
  {
   "cell_type": "markdown",
   "metadata": {
    "id": "hs6nka874vJa"
   },
   "source": [
    "## **XXVner**"
   ]
  },
  {
   "cell_type": "markdown",
   "metadata": {
    "id": "WNwOocOK6ggb"
   },
   "source": [
    "Multilingual Named Entity Recognition with One Model"
   ]
  },
  {
   "cell_type": "markdown",
   "metadata": {
    "id": "grqzs7-16Yue"
   },
   "source": [
    "#### Setup"
   ]
  },
  {
   "cell_type": "code",
   "execution_count": null,
   "metadata": {
    "colab": {
     "base_uri": "https://localhost:8080/"
    },
    "id": "JTy9qpf44tSV",
    "outputId": "7bf34f53-a444-4856-bf80-f998b69822fd"
   },
   "outputs": [],
   "source": [
    "# import libraries\n",
    "!pip install flair\n",
    "import flair\n",
    "\n",
    "import flair.datasets\n",
    "from flair.data import Corpus\n",
    "from flair.data import MultiCorpus\n",
    "from flair.data import Sentence\n",
    "from flair.datasets import ColumnCorpus\n",
    "from flair.embeddings import TokenEmbeddings, WordEmbeddings, FlairEmbeddings, StackedEmbeddings, TransformerWordEmbeddings\n",
    "from flair.models import SequenceTagger\n",
    "from flair.trainers import ModelTrainer\n",
    "\n",
    "# specify storage\n",
    "folder = '' # change to '/your_folder/XXVner/corpora'\n",
    "\n",
    "# specify setting for XXVcorpus\n",
    "corpora = []\n",
    "downsample = False\n",
    "inplace = False"
   ]
  },
  {
   "cell_type": "markdown",
   "metadata": {
    "id": "YzyqCCRY6CJY"
   },
   "source": [
    "#### Corpora"
   ]
  },
  {
   "cell_type": "code",
   "execution_count": null,
   "metadata": {
    "colab": {
     "base_uri": "https://localhost:8080/"
    },
    "id": "gQaMDFZP3M81",
    "outputId": "e315b0ec-eec9-4818-e2dc-813237ee2ed5"
   },
   "outputs": [],
   "source": [
    "corpus = flair.datasets.EUROPARL_NER_GERMAN(in_memory=inplace)\n",
    "if downsample == True: corpus = corpus.downsample(0.7)\n",
    "europarl = corpus\n",
    "corpora.append(europarl)\n",
    "\n",
    "#print(corpus)\n",
    "#print(corpus.obtain_statistics())\n",
    "#print(corpus.make_tag_dictionary('ner'))\n",
    "#print(corpus.train[10].to_tagged_string('ner'))"
   ]
  },
  {
   "cell_type": "code",
   "execution_count": null,
   "metadata": {
    "colab": {
     "base_uri": "https://localhost:8080/"
    },
    "id": "TCXOgpwBoUu_",
    "outputId": "be2f7281-592c-4387-9f65-58b8bb5ba362"
   },
   "outputs": [],
   "source": [
    "corpus = flair.datasets.WIKIGOLD_NER(in_memory=inplace)\n",
    "if downsample == True: corpus = corpus.downsample(0.9)\n",
    "wikigold = corpus\n",
    "corpora.append(wikigold)\n",
    "\n",
    "#print(corpus)\n",
    "#print(corpus.obtain_statistics())\n",
    "#print(corpus.make_tag_dictionary('ner'))\n",
    "#print(corpus.train[0].to_tagged_string('ner'))"
   ]
  },
  {
   "cell_type": "code",
   "execution_count": null,
   "metadata": {
    "colab": {
     "base_uri": "https://localhost:8080/"
    },
    "id": "d0zOb_E0BLZP",
    "outputId": "d8b63f8f-a5b4-41c4-c2fb-8a32ad9acad6"
   },
   "outputs": [],
   "source": [
    "dataset = 'dane'\n",
    "columns = {0: 'id', 1:'text', 2:'ner'}\n",
    "data_folder = f'{folder}/{dataset}'\n",
    "corpus: Corpus = ColumnCorpus(data_folder, columns, in_memory=inplace)\n",
    "if downsample == True: corpus = corpus.downsample(0.9)\n",
    "dane = corpus\n",
    "corpora.append(dane)\n",
    "\n",
    "#print(corpus)\n",
    "#print(corpus.obtain_statistics())\n",
    "#print(corpus.make_tag_dictionary('ner'))\n",
    "#print(corpus.train[0].to_tagged_string('ner'))"
   ]
  },
  {
   "cell_type": "code",
   "execution_count": null,
   "metadata": {
    "colab": {
     "base_uri": "https://localhost:8080/"
    },
    "id": "KLNUpuwU0JIU",
    "outputId": "bddc414a-2912-4577-d21f-07cba1db2616"
   },
   "outputs": [],
   "source": [
    "dataset = 'basque'\n",
    "columns = {0: 'text', 1: 'ner'}\n",
    "data_folder = f'{folder}/{dataset}'\n",
    "corpus: Corpus = ColumnCorpus(data_folder, columns, in_memory=inplace)\n",
    "if downsample == True: corpus = corpus.downsample(0.7)\n",
    "basque = corpus\n",
    "corpora.append(basque)\n",
    "\n",
    "#print(corpus)\n",
    "#print(corpus.obtain_statistics())\n",
    "#print(corpus.make_tag_dictionary('ner'))\n",
    "#print(corpus.train[0].to_tagged_string('ner'))"
   ]
  },
  {
   "cell_type": "code",
   "execution_count": null,
   "metadata": {
    "colab": {
     "base_uri": "https://localhost:8080/"
    },
    "id": "MhnT-Wsw84ok",
    "outputId": "5905cd2e-4840-412e-fedb-5969e1259b24"
   },
   "outputs": [],
   "source": [
    "dataset = 'bokmal'\n",
    "columns = {0: 'id', 1: 'text', 2: 'ner'}\n",
    "data_folder = f'{folder}/{dataset}'\n",
    "corpus: Corpus = ColumnCorpus(data_folder, columns, in_memory=inplace)\n",
    "if downsample == True: corpus = corpus.downsample(0.2)\n",
    "bokmal = corpus\n",
    "corpora.append(bokmal)\n",
    "\n",
    "#print(corpus)\n",
    "#print(corpus.obtain_statistics())\n",
    "#print(corpus.make_tag_dictionary('ner'))\n",
    "#print(corpus.train[0].to_tagged_string('ner'))"
   ]
  },
  {
   "cell_type": "code",
   "execution_count": null,
   "metadata": {
    "colab": {
     "base_uri": "https://localhost:8080/"
    },
    "id": "md6BhAb2_yzF",
    "outputId": "8e817037-f6c6-4d82-c4e6-02c778910a77"
   },
   "outputs": [],
   "source": [
    "dataset = 'btc'\n",
    "columns = {0: 'text', 1: 'ner'}\n",
    "data_folder = f'{folder}/{dataset}'\n",
    "corpus: Corpus = ColumnCorpus(data_folder, columns, in_memory=inplace)\n",
    "if downsample == True: corpus = corpus.downsample(0.3)\n",
    "btc = corpus\n",
    "corpora.append(btc)\n",
    "\n",
    "#print(corpus)\n",
    "#print(corpus.obtain_statistics())\n",
    "#print(corpus.make_tag_dictionary('ner'))\n",
    "#print(corpus.train[3].to_tagged_string('ner'))"
   ]
  },
  {
   "cell_type": "code",
   "execution_count": null,
   "metadata": {
    "colab": {
     "base_uri": "https://localhost:8080/"
    },
    "id": "bqsXz7Z5jxHz",
    "outputId": "4be4b86a-44c6-4c06-b5ba-03ed83a13ff3"
   },
   "outputs": [],
   "source": [
    "dataset = 'conll2esp'\n",
    "columns = {0: 'text', 1: 'ner'}\n",
    "data_folder = f'{folder}/{dataset}'\n",
    "corpus: Corpus = ColumnCorpus(data_folder, columns, encoding=\"latin-1\", in_memory=inplace)\n",
    "if downsample == True: corpus = corpus.downsample(0.3)\n",
    "conll2esp = corpus\n",
    "corpora.append(conll2esp)\n",
    "\n",
    "#print(corpus)\n",
    "#print(corpus.obtain_statistics())\n",
    "#print(corpus.make_tag_dictionary('ner'))\n",
    "#print(corpus.train[0].to_tagged_string('ner'))"
   ]
  },
  {
   "cell_type": "code",
   "execution_count": null,
   "metadata": {
    "colab": {
     "base_uri": "https://localhost:8080/"
    },
    "id": "J95fgA7ms0ep",
    "outputId": "376514af-2f25-4903-9e67-e5adc8c7641a"
   },
   "outputs": [],
   "source": [
    "dataset = 'conll2ned'\n",
    "columns = {0: 'text', 1:'pos', 2: 'ner'}\n",
    "data_folder = f'{folder}/{dataset}'\n",
    "corpus: Corpus = ColumnCorpus(data_folder, columns, encoding=\"latin-1\", in_memory=inplace)\n",
    "if downsample == True: corpus = corpus.downsample(0.2)\n",
    "conll2ned = corpus\n",
    "#corpora.append(conll2ned)\n",
    "\n",
    "#print(corpus)\n",
    "#print(corpus.obtain_statistics())\n",
    "#print(corpus.make_tag_dictionary('ner'))\n",
    "#print(corpus.train[10].to_tagged_string('ner'))"
   ]
  },
  {
   "cell_type": "code",
   "execution_count": null,
   "metadata": {
    "colab": {
     "base_uri": "https://localhost:8080/"
    },
    "id": "AOvHTdCowir0",
    "outputId": "e5d1263e-913f-48eb-9805-ad8191b3a4de"
   },
   "outputs": [],
   "source": [
    "dataset = 'conll3deu'\n",
    "columns = {0: 'text', 1: 'tkn', 2:'pos', 3: 'cnk', 4: 'ner'}\n",
    "data_folder = f'{folder}/{dataset}'\n",
    "corpus: Corpus = ColumnCorpus(data_folder, columns, in_memory=inplace)\n",
    "if downsample == True: corpus = corpus.downsample(0.2)\n",
    "conll3deu = corpus\n",
    "corpora.append(conll3deu)\n",
    "\n",
    "#print(corpus)\n",
    "#print(corpus.obtain_statistics())\n",
    "#print(corpus.make_tag_dictionary('ner'))\n",
    "#print(corpus.train[0].to_tagged_string('ner'))"
   ]
  },
  {
   "cell_type": "code",
   "execution_count": null,
   "metadata": {
    "colab": {
     "base_uri": "https://localhost:8080/"
    },
    "id": "pzaYSNOhx4Vd",
    "outputId": "9f03c0f0-7ed4-4db4-98fe-f8fbbe89549f"
   },
   "outputs": [],
   "source": [
    "dataset = 'conll3eng'\n",
    "columns = {0: 'text', 1:'pos', 2: 'cnk', 3: 'ner'}\n",
    "data_folder = f'{folder}/{dataset}'\n",
    "corpus: Corpus = ColumnCorpus(data_folder, columns, in_memory=inplace)\n",
    "if downsample == True: corpus = corpus.downsample(0.2)\n",
    "conll3eng = corpus\n",
    "corpora.append(conll3eng)\n",
    "\n",
    "#print(corpus)\n",
    "#print(corpus.obtain_statistics())\n",
    "#print(corpus.make_tag_dictionary('ner'))\n",
    "#print(corpus.train[0].to_tagged_string('ner'))"
   ]
  },
  {
   "cell_type": "code",
   "execution_count": null,
   "metadata": {
    "colab": {
     "base_uri": "https://localhost:8080/"
    },
    "id": "WoGZA9FFtFZR",
    "outputId": "15225084-0acd-471d-bc99-1e8dbde532a3"
   },
   "outputs": [],
   "source": [
    "dataset = 'daily'\n",
    "columns = {0:'text', 1:'ner'}\n",
    "data_folder = f'{folder}/{dataset}'\n",
    "corpus: Corpus = ColumnCorpus(data_folder, columns, in_memory=inplace)\n",
    "if downsample == True: corpus = corpus.downsample(0.1)\n",
    "daily = corpus\n",
    "corpora.append(daily) # comment out to exclude this corpus from training\n",
    "\n",
    "#print(corpus)\n",
    "#print(corpus.obtain_statistics())\n",
    "#print(corpus.make_tag_dictionary('ner'))\n",
    "#print(corpus.train[1105].to_tagged_string('ner'))"
   ]
  },
  {
   "cell_type": "code",
   "execution_count": null,
   "metadata": {
    "colab": {
     "base_uri": "https://localhost:8080/"
    },
    "id": "qh-pYiau1vTl",
    "outputId": "f9afd9c3-21d9-43a8-a5d9-06d8fb308dbd"
   },
   "outputs": [],
   "source": [
    "dataset = 'estner'\n",
    "columns = {0:'text', 1:'ner'}\n",
    "data_folder = f'{folder}/{dataset}'\n",
    "corpus: Corpus = ColumnCorpus(data_folder, columns, in_memory=inplace)\n",
    "if downsample == True: corpus = corpus.downsample(0.1)\n",
    "estner = corpus\n",
    "corpora.append(estner)\n",
    "\n",
    "#print(corpus)\n",
    "#print(corpus.obtain_statistics())\n",
    "#print(corpus.make_tag_dictionary('ner'))\n",
    "#print(corpus.train[0].to_tagged_string('ner'))"
   ]
  },
  {
   "cell_type": "code",
   "execution_count": null,
   "metadata": {
    "colab": {
     "base_uri": "https://localhost:8080/"
    },
    "id": "coMoaFPv2ssU",
    "outputId": "2891d3a2-2a63-4016-b3fa-60c9a388f388"
   },
   "outputs": [],
   "source": [
    "dataset = 'evalita'\n",
    "columns = {0: 'text', 1:'pos', 2:'cde', 3:'ner'}\n",
    "data_folder = f'{folder}/{dataset}'\n",
    "corpus: Corpus = ColumnCorpus(data_folder, columns, encoding=\"latin-1\", in_memory=inplace)\n",
    "if downsample == True: corpus = corpus.downsample(0.2)\n",
    "evalita = corpus\n",
    "corpora.append(evalita)\n",
    "\n",
    "#print(corpus)\n",
    "#print(corpus.obtain_statistics())\n",
    "#print(corpus.make_tag_dictionary('ner'))\n",
    "#print(corpus.train[0].to_tagged_string('ner'))"
   ]
  },
  {
   "cell_type": "code",
   "execution_count": null,
   "metadata": {
    "colab": {
     "base_uri": "https://localhost:8080/"
    },
    "id": "18ZLgkLq4KHs",
    "outputId": "db2703d5-f33d-46e9-b8c3-a99a8834de51"
   },
   "outputs": [],
   "source": [
    "dataset = 'finer'\n",
    "columns = {0: 'text', 1:'ner', 2:'mer'}\n",
    "data_folder = f'{folder}/{dataset}'\n",
    "corpus: Corpus = ColumnCorpus(data_folder, columns, in_memory=inplace)\n",
    "if downsample == True: corpus = corpus.downsample(0.2)\n",
    "finer = corpus\n",
    "corpora.append(finer)\n",
    "\n",
    "#print(corpus)\n",
    "#print(corpus.obtain_statistics())\n",
    "#print(corpus.make_tag_dictionary('ner'))\n",
    "#print(corpus.train[10].to_tagged_string('ner'))"
   ]
  },
  {
   "cell_type": "code",
   "execution_count": null,
   "metadata": {
    "colab": {
     "base_uri": "https://localhost:8080/"
    },
    "id": "mcFvK5Ll9p6v",
    "outputId": "73b92aa9-5ac8-486f-bcf6-c2dc2111a76e"
   },
   "outputs": [],
   "source": [
    "dataset = 'hvgcontext'\n",
    "columns = {0: 'text', 1: 'ner'}\n",
    "data_folder = f'{folder}/{dataset}'\n",
    "corpus: Corpus = ColumnCorpus(data_folder, columns, encoding=\"latin-1\", in_memory=inplace)\n",
    "if downsample == True: corpus = corpus.downsample(0.2)\n",
    "hvgcontext = corpus\n",
    "corpora.append(hvgcontext)\n",
    "\n",
    "#print(corpus)\n",
    "#print(corpus.obtain_statistics())\n",
    "#print(corpus.make_tag_dictionary('ner'))\n",
    "#print(corpus.train[4].to_tagged_string('ner'))"
   ]
  },
  {
   "cell_type": "code",
   "execution_count": null,
   "metadata": {
    "colab": {
     "base_uri": "https://localhost:8080/"
    },
    "id": "HTL8u-ug3kqA",
    "outputId": "2bc3354c-4095-4d99-f596-bbc49d946caf"
   },
   "outputs": [],
   "source": [
    "dataset = 'msra'\n",
    "columns = {0:'text', 1:'ner'}\n",
    "data_folder = f'{folder}/{dataset}'\n",
    "corpus: Corpus = ColumnCorpus(data_folder, columns, in_memory=inplace)\n",
    "if downsample == True: corpus = corpus.downsample(0.1)\n",
    "msra = corpus\n",
    "corpora.append(msra) # comment out to exclude this corpus from training\n",
    "\n",
    "#print(corpus)\n",
    "#print(corpus.obtain_statistics())\n",
    "#print(corpus.make_tag_dictionary('ner'))\n",
    "#print(corpus.train[1100].to_tagged_string('ner'))"
   ]
  },
  {
   "cell_type": "code",
   "execution_count": null,
   "metadata": {
    "colab": {
     "base_uri": "https://localhost:8080/"
    },
    "id": "USwSqXRh1W_9",
    "outputId": "55095f7a-f507-4fcb-d6ec-d88e1cbe1eb7"
   },
   "outputs": [],
   "source": [
    "dataset = 'nchlt'\n",
    "columns = {0: 'text', 1: 'ner'}\n",
    "data_folder = f'{folder}/{dataset}'\n",
    "corpus: Corpus = ColumnCorpus(data_folder, columns, in_memory=inplace)\n",
    "if downsample == True: corpus = corpus.downsample(0.3)\n",
    "nchlt = corpus\n",
    "corpora.append(nchlt)\n",
    "\n",
    "#print(corpus)\n",
    "#print(corpus.obtain_statistics())\n",
    "#print(corpus.make_tag_dictionary('ner'))\n",
    "#print(corpus.train[0].to_tagged_string('ner'))"
   ]
  },
  {
   "cell_type": "code",
   "execution_count": null,
   "metadata": {
    "colab": {
     "base_uri": "https://localhost:8080/"
    },
    "id": "DZLPlxhf9crJ",
    "outputId": "e649aa77-2f0c-4690-ce8a-40e29da19a56"
   },
   "outputs": [],
   "source": [
    "dataset = 'nynorsk'\n",
    "columns = {0: 'id', 1: 'text', 2: 'ner'}\n",
    "data_folder = f'{folder}/{dataset}'\n",
    "corpus: Corpus = ColumnCorpus(data_folder, columns, in_memory=inplace)\n",
    "if downsample == True: corpus = corpus.downsample(0.2)\n",
    "nynorsk = corpus\n",
    "corpora.append(nynorsk)\n",
    "\n",
    "#print(corpus)\n",
    "#print(corpus.obtain_statistics())\n",
    "#print(corpus.make_tag_dictionary('ner'))\n",
    "#print(corpus.train[306].to_tagged_string('ner'))"
   ]
  },
  {
   "cell_type": "code",
   "execution_count": null,
   "metadata": {
    "colab": {
     "base_uri": "https://localhost:8080/"
    },
    "id": "B_6vPuCvxuEK",
    "outputId": "99a014f7-52c4-43ab-af28-2dde9c471557"
   },
   "outputs": [],
   "source": [
    "dataset = 'persian'\n",
    "columns = {0: 'text', 1: 'ner'}\n",
    "data_folder = f'{folder}/{dataset}'\n",
    "corpus: Corpus = ColumnCorpus(data_folder, columns, in_memory=inplace)\n",
    "if downsample == True: corpus = corpus.downsample(0.2)\n",
    "persian = corpus\n",
    "corpora.append(persian)\n",
    "\n",
    "#print(corpus)\n",
    "#print(corpus.obtain_statistics())\n",
    "#print(corpus.make_tag_dictionary('ner'))\n",
    "#print(corpus.train[3].to_tagged_string('ner'))"
   ]
  },
  {
   "cell_type": "code",
   "execution_count": null,
   "metadata": {
    "colab": {
     "base_uri": "https://localhost:8080/"
    },
    "id": "piraf8RDuZTC",
    "outputId": "4d1d41b0-8b8f-4fa8-c0ba-84e469dc957f"
   },
   "outputs": [],
   "source": [
    "dataset = 'pucit'\n",
    "columns = {0: 'text', 1: 'ner'}\n",
    "data_folder = f'{folder}/{dataset}'\n",
    "corpus: Corpus = ColumnCorpus(data_folder, columns, in_memory=inplace)\n",
    "if downsample == True: corpus = corpus.downsample(0.1)\n",
    "pucit = corpus\n",
    "corpora.append(pucit)\n",
    "\n",
    "#print(corpus)\n",
    "#print(corpus.obtain_statistics())\n",
    "#print(corpus.make_tag_dictionary('ner'))\n",
    "#print(corpus.train[0].to_tagged_string('ner'))"
   ]
  },
  {
   "cell_type": "code",
   "execution_count": null,
   "metadata": {
    "colab": {
     "base_uri": "https://localhost:8080/"
    },
    "id": "WhpHeQgTF4Z-",
    "outputId": "bcb6f4ca-d7dd-40d5-c9ec-156c836acb0a"
   },
   "outputs": [],
   "source": [
    "dataset = 'ritter'\n",
    "columns = {0: 'id', 1:'ner'}\n",
    "data_folder = f'{folder}/{dataset}'\n",
    "corpus: Corpus = ColumnCorpus(data_folder, columns, in_memory=inplace)\n",
    "if downsample == True: corpus = corpus.downsample(0.9)\n",
    "ritter = corpus\n",
    "corpora.append(ritter)\n",
    "\n",
    "#print(corpus)\n",
    "#print(corpus.obtain_statistics())\n",
    "#print(corpus.make_tag_dictionary('ner'))\n",
    "#print(corpus.train[0].to_tagged_string('ner'))"
   ]
  },
  {
   "cell_type": "code",
   "execution_count": null,
   "metadata": {
    "colab": {
     "base_uri": "https://localhost:8080/"
    },
    "id": "cfTk-q_DhRgO",
    "outputId": "1443920f-fb06-460b-8f81-edbdd0d460fd"
   },
   "outputs": [],
   "source": [
    "dataset = 'ronec'\n",
    "columns = {0: 'id', 1:'text', 2:'ner'}\n",
    "data_folder = f'{folder}/{dataset}'\n",
    "corpus: Corpus = ColumnCorpus(data_folder, columns, in_memory=inplace)\n",
    "if downsample == True: corpus = corpus.downsample(0.3)\n",
    "ronec = corpus\n",
    "corpora.append(ronec)\n",
    "\n",
    "#print(corpus)\n",
    "#print(corpus.obtain_statistics())\n",
    "#print(corpus.make_tag_dictionary('ner'))\n",
    "#print(corpus.train[0].to_tagged_string('ner'))"
   ]
  },
  {
   "cell_type": "code",
   "execution_count": null,
   "metadata": {
    "colab": {
     "base_uri": "https://localhost:8080/"
    },
    "id": "C7lPwr4pkSSY",
    "outputId": "cd52d941-a506-4dbc-a44f-4e4fb098d2f0"
   },
   "outputs": [],
   "source": [
    "dataset = 'sic'\n",
    "columns = {0: 'id', 1:'text', 2:'word', 3: 'pos', 4:'sop', 5:'fnc', 6: 'ttl', 7:'abs', 8:'cpl', 9: 'zro', 10:'frk', 11:'ner', 12:'hsh'}\n",
    "data_folder = f'{folder}/{dataset}'\n",
    "corpus: Corpus = ColumnCorpus(data_folder, columns, in_memory=inplace)\n",
    "if downsample == True: corpus = corpus.downsample(0.9)\n",
    "sic = corpus\n",
    "corpora.append(sic)\n",
    "\n",
    "#print(corpus)\n",
    "#print(corpus.obtain_statistics())\n",
    "#print(corpus.make_tag_dictionary('ner'))\n",
    "#print(corpus.train[12].to_tagged_string('ner'))"
   ]
  },
  {
   "cell_type": "code",
   "execution_count": null,
   "metadata": {
    "colab": {
     "base_uri": "https://localhost:8080/"
    },
    "id": "LgUSEtge9GIm",
    "outputId": "a9ed3a83-0e3a-487b-943a-8c417e8ad375"
   },
   "outputs": [],
   "source": [
    "dataset = 'szeged'\n",
    "columns = {0: 'text', 1: 'ner'}\n",
    "data_folder = f'{folder}/{dataset}'\n",
    "corpus: Corpus = ColumnCorpus(data_folder, columns, encoding=\"latin-1\", in_memory=inplace)\n",
    "if downsample == True: corpus = corpus.downsample(0.3)\n",
    "szeged = corpus\n",
    "corpora.append(szeged)\n",
    "\n",
    "#print(corpus)\n",
    "#print(corpus.obtain_statistics())\n",
    "#print(corpus.make_tag_dictionary('ner'))\n",
    "#print(corpus.train[0].to_tagged_string('ner'))"
   ]
  },
  {
   "cell_type": "code",
   "execution_count": null,
   "metadata": {
    "colab": {
     "base_uri": "https://localhost:8080/"
    },
    "id": "0Z_-fsQ7mz-i",
    "outputId": "09f9eb88-9c12-4267-c2ff-a1bdef2aed6f"
   },
   "outputs": [],
   "source": [
    "dataset = 'weibo'\n",
    "columns = {0:'text', 1:'ner'}\n",
    "data_folder = f'{folder}/{dataset}'\n",
    "corpus: Corpus = ColumnCorpus(data_folder, columns, in_memory=inplace)\n",
    "if downsample == True: corpus = corpus.downsample(0.9)\n",
    "weibo = corpus\n",
    "corpora.append(weibo) # comment out to exclude this corpus from training\n",
    "\n",
    "#print(corpus)\n",
    "#print(corpus.obtain_statistics())\n",
    "#print(corpus.make_tag_dictionary('ner'))\n",
    "#print(corpus.train[100].to_tagged_string('ner'))"
   ]
  },
  {
   "cell_type": "markdown",
   "metadata": {
    "id": "pcEcM5WW5r-_"
   },
   "source": [
    "#### XXVcorpus"
   ]
  },
  {
   "cell_type": "code",
   "execution_count": null,
   "metadata": {
    "colab": {
     "base_uri": "https://localhost:8080/"
    },
    "id": "EKPvSSWZrwJ6",
    "outputId": "1b700ffb-9b88-4645-9d7f-bd7ea1dfe830"
   },
   "outputs": [],
   "source": [
    "# build XXVcorpus\n",
    "xxv_corpus = MultiCorpus(corpora) # to exclude Chinese, remove 'daily', 'msra' & 'weibo'\n",
    "\n",
    "tag_type = 'ner'\n",
    "tag_dictionary = xxv_corpus.make_tag_dictionary(tag_type=tag_type)\n",
    "\n",
    "#print(xxv_corpus)\n",
    "print(tag_dictionary)"
   ]
  },
  {
   "cell_type": "markdown",
   "metadata": {
    "id": "F6S5zpxBI82p"
   },
   "source": [
    "#### Training"
   ]
  },
  {
   "cell_type": "code",
   "execution_count": null,
   "metadata": {},
   "outputs": [],
   "source": [
    "# initialize Flair embeddings for training XXVner-FM\n",
    "embedding_types = [FlairEmbeddings('multi-forward'),\n",
    "                   FlairEmbeddings('multi-backward')]\n",
    "embeddings: StackedEmbeddings = StackedEmbeddings(embeddings=embedding_types)\n",
    "    \n",
    "# initialize sequence tagger and trainer\n",
    "tagger: SequenceTagger = SequenceTagger(hidden_size=256,\n",
    "                                        embeddings=embeddings,\n",
    "                                        tag_dictionary=tag_dictionary,\n",
    "                                        tag_type=tag_type,\n",
    "                                        use_crf=True)\n",
    "\n",
    "trainer: ModelTrainer = ModelTrainer(tagger, xxv_corpus)\n",
    "    \n",
    "# start training    \n",
    "trainer.train(folder\n",
    "              ,learning_rate=0.1 \n",
    "              ,mini_batch_size=32 \n",
    "              ,max_epochs=150)"
   ]
  },
  {
   "cell_type": "code",
   "execution_count": null,
   "metadata": {
    "colab": {
     "base_uri": "https://localhost:8080/"
    },
    "id": "NP5gcGTMIzwW",
    "outputId": "2ffc120c-a2a9-4dfc-f524-f609f80d91b1"
   },
   "outputs": [],
   "source": [
    "# initialize embeddings for training XXVner-XLM\n",
    "embeddings = TransformerWordEmbeddings(model=\"xlm-roberta-large\",\n",
    "                                        layers=\"all\",\n",
    "                                        pooling_operation=\"first\",\n",
    "                                        fine_tune=False,\n",
    "                                        use_scalar_mix=True)\n",
    "\n",
    "# initialize sequence tagger and trainer\n",
    "tagger: SequenceTagger = SequenceTagger(hidden_size=256,\n",
    "                                        embeddings=embeddings,\n",
    "                                        tag_dictionary=tag_dictionary,\n",
    "                                        tag_type=tag_type,\n",
    "                                        use_crf=True) # use CRF?\n",
    "\n",
    "trainer: ModelTrainer = ModelTrainer(tagger, xxv_corpus)\n",
    "    \n",
    "# start training\n",
    "trainer.train(folder\n",
    "              ,learning_rate=0.1\n",
    "              ,mini_batch_size=32 # set smaller?\n",
    "              ,max_epochs=150)"
   ]
  }
 ],
 "metadata": {
  "accelerator": "GPU",
  "colab": {
   "collapsed_sections": [],
   "machine_shape": "hm",
   "name": "Horizon",
   "provenance": [],
   "toc_visible": true
  },
  "kernelspec": {
   "display_name": "Python 3",
   "language": "python",
   "name": "python3"
  },
  "language_info": {
   "codemirror_mode": {
    "name": "ipython",
    "version": 3
   },
   "file_extension": ".py",
   "mimetype": "text/x-python",
   "name": "python",
   "nbconvert_exporter": "python",
   "pygments_lexer": "ipython3",
   "version": "3.6.10"
  }
 },
 "nbformat": 4,
 "nbformat_minor": 1
}
